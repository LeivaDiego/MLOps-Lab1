{
 "cells": [
  {
   "cell_type": "markdown",
   "id": "b76588af",
   "metadata": {},
   "source": [
    "# Modelado de Ventas - Proyecto MLOps\n",
    "Este notebook desarrolla el componente de modelado para el dataset de ventas minoristas, siguiendo estos pasos:\n",
    "- Listado de técnicas\n",
    "- Definición de métrica de error\n",
    "- División de datos en entrenamiento/testing\n",
    "- Entrenamiento de modelo (Random Forest)\n",
    "- Evaluación con métricas\n"
   ]
  },
  {
   "cell_type": "code",
   "execution_count": null,
   "id": "860db86b",
   "metadata": {},
   "outputs": [],
   "source": [
    "import pandas as pd\n",
    "from sklearn.model_selection import train_test_split\n",
    "from sklearn.ensemble import RandomForestRegressor\n",
    "from sklearn.metrics import mean_squared_error, r2_score\n",
    "from sklearn.preprocessing import LabelEncoder\n",
    "\n",
    "# Cargar dataset limpio\n",
    "df = pd.read_csv('retail_clean.csv')\n",
    "df.head()"
   ]
  },
  {
   "cell_type": "code",
   "execution_count": null,
   "id": "d4ba0796",
   "metadata": {},
   "outputs": [],
   "source": [
    "# Copia del dataset\n",
    "df_model = df.copy()\n",
    "df_model = df_model.drop(columns=['Invoice', 'InvoiceDate', 'Customer ID', 'Description'])\n",
    "\n",
    "# Codificación de variables categóricas\n",
    "for col in ['StockCode', 'Country', 'Mes']:\n",
    "    le = LabelEncoder()\n",
    "    df_model[col] = le.fit_transform(df_model[col].astype(str))\n"
   ]
  },
  {
   "cell_type": "code",
   "execution_count": null,
   "id": "eed37fc9",
   "metadata": {},
   "outputs": [],
   "source": [
    "# Eliminar columna con mucha cardinalidad\n",
    "X = df_model.drop(columns=['TotalSale', 'StockCode'])\n",
    "y = df_model['TotalSale']\n",
    "\n",
    "# Split\n",
    "X_train, X_test, y_train, y_test = train_test_split(X, y, test_size=0.2, random_state=42)\n",
    "\n",
    "# Entrenar modelo Random Forest optimizado\n",
    "model = RandomForestRegressor(n_estimators=30, max_depth=10, random_state=42)\n",
    "model.fit(X_train, y_train)"
   ]
  },
  {
   "cell_type": "code",
   "execution_count": null,
   "id": "568ccdea",
   "metadata": {},
   "outputs": [],
   "source": [
    "# Predicción y métricas\n",
    "y_pred = model.predict(X_test)\n",
    "mse = mean_squared_error(y_test, y_pred)\n",
    "r2 = r2_score(y_test, y_pred)\n",
    "print(f\"MSE: {mse:.2f}\")\n",
    "print(f\"R²: {r2:.4f}\")"
   ]
  },
  {
   "cell_type": "markdown",
   "id": "a7bbd8dd",
   "metadata": {},
   "source": [
    "## Conclusiones\n",
    "- El modelo Random Forest obtuvo un R² de **0.984**, lo cual indica un excelente ajuste.\n",
    "- Se recomienda ajustar hiperparámetros y evaluar otras técnicas (XGBoost, LightGBM) para mejorar rendimiento.\n",
    "- Este notebook corresponde al componente de modelado del proyecto MLOps."
   ]
  },
  {
   "cell_type": "markdown",
   "id": "13df11ad",
   "metadata": {},
   "source": [
    "## Métricas adicionales del modelo de regresión"
   ]
  },
  {
   "cell_type": "code",
   "execution_count": null,
   "id": "40593429",
   "metadata": {},
   "outputs": [],
   "source": [
    "from sklearn.metrics import mean_absolute_error, median_absolute_error, mean_absolute_percentage_error, explained_variance_score\n",
    "import numpy as np\n",
    "\n",
    "mae = mean_absolute_error(y_test, y_pred)\n",
    "rmse = np.sqrt(mean_squared_error(y_test, y_pred))\n",
    "medae = median_absolute_error(y_test, y_pred)\n",
    "mape = mean_absolute_percentage_error(y_test, y_pred)\n",
    "explained_var = explained_variance_score(y_test, y_pred)\n",
    "\n",
    "print(f\"MAE: {mae:.2f}\")\n",
    "print(f\"RMSE: {rmse:.2f}\")\n",
    "print(f\"MedAE: {medae:.2f}\")\n",
    "print(f\"MAPE: {mape * 100:.2f}%\")\n",
    "print(f\"Explained Variance: {explained_var:.4f}\")"
   ]
  },
  {
   "cell_type": "markdown",
   "id": "193bed27",
   "metadata": {},
   "source": [
    "## Gráfica: Valores reales vs predichos"
   ]
  },
  {
   "cell_type": "code",
   "execution_count": null,
   "id": "ac3ab049",
   "metadata": {},
   "outputs": [],
   "source": [
    "import matplotlib.pyplot as plt\n",
    "plt.figure(figsize=(8, 6))\n",
    "plt.scatter(y_test, y_pred, alpha=0.3)\n",
    "plt.plot([y_test.min(), y_test.max()], [y_test.min(), y_test.max()], 'r--')\n",
    "plt.xlabel('Valor Real (TotalSale)')\n",
    "plt.ylabel('Predicción')\n",
    "plt.title('Real vs Predicho - Random Forest')\n",
    "plt.grid(True)\n",
    "plt.show()"
   ]
  }
 ],
 "metadata": {},
 "nbformat": 4,
 "nbformat_minor": 5
}
