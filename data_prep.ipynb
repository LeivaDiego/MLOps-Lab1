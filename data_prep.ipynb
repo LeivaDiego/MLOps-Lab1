{
 "cells": [
  {
   "cell_type": "markdown",
   "id": "fb3ed185",
   "metadata": {},
   "source": [
    "# Data Prep"
   ]
  },
  {
   "cell_type": "markdown",
   "id": "5d75bf5b",
   "metadata": {},
   "source": [
    "## Combinación de hojas de excel"
   ]
  },
  {
   "cell_type": "code",
   "execution_count": 1,
   "id": "c27b2fb2",
   "metadata": {},
   "outputs": [
    {
     "name": "stdout",
     "output_type": "stream",
     "text": [
      "El archivo data/online_retail.csv ya existe. No se sobrescribirá.\n"
     ]
    }
   ],
   "source": [
    "import pandas as pd\n",
    "import os\n",
    "\n",
    "# Ruta al archivo Excel\n",
    "file_path = \"data/online_retail_II.xlsx\"\n",
    "combined_path = \"data/online_retail.csv\"\n",
    "\n",
    "if os.path.exists(combined_path):\n",
    "    print(f\"El archivo {combined_path} ya existe. No se sobrescribirá.\")\n",
    "else:\n",
    "    print(\"Leyendo datos, puede tardar unos minutos...\")\n",
    "    df1 = pd.read_excel(file_path, sheet_name='Year 2009-2010')\n",
    "    df2 = pd.read_excel(file_path, sheet_name='Year 2010-2011')\n",
    "\n",
    "    combined_df = pd.concat([df1, df2], ignore_index=True)\n",
    "    combined_df.to_csv(combined_path, index=False)\n",
    "    print(f\"Datos combinados guardados en {combined_path}.\")"
   ]
  },
  {
   "cell_type": "markdown",
   "id": "2a651707",
   "metadata": {},
   "source": [
    "## Pre Procesamiento"
   ]
  },
  {
   "cell_type": "markdown",
   "id": "6380d426",
   "metadata": {},
   "source": [
    "### Carga y comprensión"
   ]
  },
  {
   "cell_type": "code",
   "execution_count": 2,
   "id": "7eeeab13",
   "metadata": {},
   "outputs": [
    {
     "name": "stdout",
     "output_type": "stream",
     "text": [
      "1067371 filas y 8 columnas cargadas.\n",
      "---------- \n",
      "\n",
      "Invoice: object\n",
      "StockCode: object\n",
      "Description: object\n",
      "Quantity: int64\n",
      "InvoiceDate: object\n",
      "Price: float64\n",
      "Customer ID: float64\n",
      "Country: object\n",
      "---------- \n",
      "\n",
      "Primeras filas del DataFrame:\n"
     ]
    },
    {
     "data": {
      "text/html": [
       "<div>\n",
       "<style scoped>\n",
       "    .dataframe tbody tr th:only-of-type {\n",
       "        vertical-align: middle;\n",
       "    }\n",
       "\n",
       "    .dataframe tbody tr th {\n",
       "        vertical-align: top;\n",
       "    }\n",
       "\n",
       "    .dataframe thead th {\n",
       "        text-align: right;\n",
       "    }\n",
       "</style>\n",
       "<table border=\"1\" class=\"dataframe\">\n",
       "  <thead>\n",
       "    <tr style=\"text-align: right;\">\n",
       "      <th></th>\n",
       "      <th>Invoice</th>\n",
       "      <th>StockCode</th>\n",
       "      <th>Description</th>\n",
       "      <th>Quantity</th>\n",
       "      <th>InvoiceDate</th>\n",
       "      <th>Price</th>\n",
       "      <th>Customer ID</th>\n",
       "      <th>Country</th>\n",
       "    </tr>\n",
       "  </thead>\n",
       "  <tbody>\n",
       "    <tr>\n",
       "      <th>0</th>\n",
       "      <td>489434</td>\n",
       "      <td>85048</td>\n",
       "      <td>15CM CHRISTMAS GLASS BALL 20 LIGHTS</td>\n",
       "      <td>12</td>\n",
       "      <td>2009-12-01 07:45:00</td>\n",
       "      <td>6.95</td>\n",
       "      <td>13085.0</td>\n",
       "      <td>United Kingdom</td>\n",
       "    </tr>\n",
       "    <tr>\n",
       "      <th>1</th>\n",
       "      <td>489434</td>\n",
       "      <td>79323P</td>\n",
       "      <td>PINK CHERRY LIGHTS</td>\n",
       "      <td>12</td>\n",
       "      <td>2009-12-01 07:45:00</td>\n",
       "      <td>6.75</td>\n",
       "      <td>13085.0</td>\n",
       "      <td>United Kingdom</td>\n",
       "    </tr>\n",
       "    <tr>\n",
       "      <th>2</th>\n",
       "      <td>489434</td>\n",
       "      <td>79323W</td>\n",
       "      <td>WHITE CHERRY LIGHTS</td>\n",
       "      <td>12</td>\n",
       "      <td>2009-12-01 07:45:00</td>\n",
       "      <td>6.75</td>\n",
       "      <td>13085.0</td>\n",
       "      <td>United Kingdom</td>\n",
       "    </tr>\n",
       "    <tr>\n",
       "      <th>3</th>\n",
       "      <td>489434</td>\n",
       "      <td>22041</td>\n",
       "      <td>RECORD FRAME 7\" SINGLE SIZE</td>\n",
       "      <td>48</td>\n",
       "      <td>2009-12-01 07:45:00</td>\n",
       "      <td>2.10</td>\n",
       "      <td>13085.0</td>\n",
       "      <td>United Kingdom</td>\n",
       "    </tr>\n",
       "    <tr>\n",
       "      <th>4</th>\n",
       "      <td>489434</td>\n",
       "      <td>21232</td>\n",
       "      <td>STRAWBERRY CERAMIC TRINKET BOX</td>\n",
       "      <td>24</td>\n",
       "      <td>2009-12-01 07:45:00</td>\n",
       "      <td>1.25</td>\n",
       "      <td>13085.0</td>\n",
       "      <td>United Kingdom</td>\n",
       "    </tr>\n",
       "  </tbody>\n",
       "</table>\n",
       "</div>"
      ],
      "text/plain": [
       "  Invoice StockCode                          Description  Quantity  \\\n",
       "0  489434     85048  15CM CHRISTMAS GLASS BALL 20 LIGHTS        12   \n",
       "1  489434    79323P                   PINK CHERRY LIGHTS        12   \n",
       "2  489434    79323W                  WHITE CHERRY LIGHTS        12   \n",
       "3  489434     22041         RECORD FRAME 7\" SINGLE SIZE         48   \n",
       "4  489434     21232       STRAWBERRY CERAMIC TRINKET BOX        24   \n",
       "\n",
       "           InvoiceDate  Price  Customer ID         Country  \n",
       "0  2009-12-01 07:45:00   6.95      13085.0  United Kingdom  \n",
       "1  2009-12-01 07:45:00   6.75      13085.0  United Kingdom  \n",
       "2  2009-12-01 07:45:00   6.75      13085.0  United Kingdom  \n",
       "3  2009-12-01 07:45:00   2.10      13085.0  United Kingdom  \n",
       "4  2009-12-01 07:45:00   1.25      13085.0  United Kingdom  "
      ]
     },
     "execution_count": 2,
     "metadata": {},
     "output_type": "execute_result"
    }
   ],
   "source": [
    "# Lectura de datos\n",
    "df = pd.read_csv(combined_path)\n",
    "\n",
    "print(f\"{df.shape[0]} filas y {df.shape[1]} columnas cargadas.\")\n",
    "print(\"-\" * 10, \"\\n\")\n",
    "for col in df.columns:\n",
    "    print(f\"{col}: {df[col].dtype}\")\n",
    "print(\"-\" * 10, \"\\n\")\n",
    "# Mostrar las primeras filas del DataFrame\n",
    "print(\"Primeras filas del DataFrame:\")\n",
    "df.head()"
   ]
  },
  {
   "cell_type": "markdown",
   "id": "98626459",
   "metadata": {},
   "source": [
    "### Conversión de tipos"
   ]
  },
  {
   "cell_type": "code",
   "execution_count": 3,
   "id": "d3bb2060",
   "metadata": {},
   "outputs": [],
   "source": [
    "# Conversion de columnas a tipo fecha\n",
    "df['InvoiceDate'] = pd.to_datetime(df['InvoiceDate'], errors='coerce')"
   ]
  },
  {
   "cell_type": "markdown",
   "id": "6f8fd4c4",
   "metadata": {},
   "source": [
    "### Limpieza"
   ]
  },
  {
   "cell_type": "code",
   "execution_count": 4,
   "id": "61f2ae62",
   "metadata": {},
   "outputs": [
    {
     "name": "stdout",
     "output_type": "stream",
     "text": [
      "Registros con valores nulos:\n",
      "- Customer ID nulos: 243007\n",
      "- Description nulos: 4382\n",
      "- Quantity nulos: 0\n",
      "- Price nulos: 0\n"
     ]
    }
   ],
   "source": [
    "# Conteo inicial de registros\n",
    "original_rows = df.shape[0]\n",
    "\n",
    "# Conteo de nulos por columnas clave\n",
    "nulos_customer_id = df['Customer ID'].isna().sum()\n",
    "nulos_description = df['Description'].isna().sum()\n",
    "nulos_quantity = df['Quantity'].isna().sum()\n",
    "nulos_price = df['Price'].isna().sum()\n",
    "\n",
    "print(\"Registros con valores nulos:\")\n",
    "print(f\"- Customer ID nulos: {nulos_customer_id}\")\n",
    "print(f\"- Description nulos: {nulos_description}\")\n",
    "print(f\"- Quantity nulos: {nulos_quantity}\")\n",
    "print(f\"- Price nulos: {nulos_price}\")"
   ]
  },
  {
   "cell_type": "code",
   "execution_count": 5,
   "id": "38fb19a6",
   "metadata": {},
   "outputs": [
    {
     "name": "stdout",
     "output_type": "stream",
     "text": [
      "Resumen de registros eliminados:\n",
      "- Original: 1067371\n",
      "- Después de eliminar nulos en Customer ID: 824364  (243007 eliminados)\n",
      "- Después de eliminar nulos en Description: 824364  (0 eliminados)\n",
      "- Después de eliminar nulos en Quantity y Price: 824364  (0 eliminados)\n",
      "- Después de eliminar Quantity <= 0: 805620  (18744 eliminados)\n",
      "- Después de eliminar Price <= 0: 805549  (71 eliminados)\n",
      "→ Total final: 805549 registros (eliminados: 261822)\n"
     ]
    }
   ],
   "source": [
    "# Guardar registros antes de cada limpieza para comparar\n",
    "rows_before = df.shape[0]\n",
    "\n",
    "# Eliminar nulos\n",
    "df = df.dropna(subset=['Customer ID'])\n",
    "after_customer_id = df.shape[0]\n",
    "\n",
    "df = df.dropna(subset=['Description'])\n",
    "after_description = df.shape[0]\n",
    "\n",
    "df = df.dropna(subset=['Quantity', 'Price'])\n",
    "after_qty_price = df.shape[0]\n",
    "\n",
    "# Eliminar valores no válidos\n",
    "df = df[df['Quantity'] > 0]\n",
    "after_qty = df.shape[0]\n",
    "\n",
    "df = df[df['Price'] > 0]\n",
    "after_price = df.shape[0]\n",
    "\n",
    "# Reporte\n",
    "print(\"Resumen de registros eliminados:\")\n",
    "print(f\"- Original: {original_rows}\")\n",
    "print(f\"- Después de eliminar nulos en Customer ID: {after_customer_id}  ({original_rows - after_customer_id} eliminados)\")\n",
    "print(f\"- Después de eliminar nulos en Description: {after_description}  ({after_customer_id - after_description} eliminados)\")\n",
    "print(f\"- Después de eliminar nulos en Quantity y Price: {after_qty_price}  ({after_description - after_qty_price} eliminados)\")\n",
    "print(f\"- Después de eliminar Quantity <= 0: {after_qty}  ({after_qty_price - after_qty} eliminados)\")\n",
    "print(f\"- Después de eliminar Price <= 0: {after_price}  ({after_qty - after_price} eliminados)\")\n",
    "print(f\"→ Total final: {after_price} registros (eliminados: {original_rows - after_price})\")\n"
   ]
  },
  {
   "cell_type": "markdown",
   "id": "a545a12a",
   "metadata": {},
   "source": [
    "### Creación de nuevas columnas"
   ]
  },
  {
   "cell_type": "code",
   "execution_count": 6,
   "id": "07448d6d",
   "metadata": {},
   "outputs": [],
   "source": [
    "df[\"TotalSale\"] = df[\"Quantity\"] * df[\"Price\"]\n",
    "df[\"Devolucion\"] = df[\"Invoice\"].astype(str).str.startswith(\"C\")\n",
    "df[\"Mes\"] = df[\"InvoiceDate\"].dt.to_period(\"M\").astype(str)"
   ]
  },
  {
   "cell_type": "markdown",
   "id": "b1721e16",
   "metadata": {},
   "source": [
    "### Exportación"
   ]
  },
  {
   "cell_type": "code",
   "execution_count": 8,
   "id": "37f92d07",
   "metadata": {},
   "outputs": [],
   "source": [
    "df.to_csv(\"data/retail_clean.csv\", index=False)"
   ]
  }
 ],
 "metadata": {
  "kernelspec": {
   "display_name": "mlops_lab1",
   "language": "python",
   "name": "python3"
  },
  "language_info": {
   "codemirror_mode": {
    "name": "ipython",
    "version": 3
   },
   "file_extension": ".py",
   "mimetype": "text/x-python",
   "name": "python",
   "nbconvert_exporter": "python",
   "pygments_lexer": "ipython3",
   "version": "3.12.11"
  }
 },
 "nbformat": 4,
 "nbformat_minor": 5
}
