{
 "cells": [
  {
   "cell_type": "markdown",
   "id": "5d75bf5b",
   "metadata": {},
   "source": [
    "## Combinación de hojas de excel"
   ]
  },
  {
   "cell_type": "code",
   "execution_count": 1,
   "id": "c27b2fb2",
   "metadata": {},
   "outputs": [
    {
     "name": "stdout",
     "output_type": "stream",
     "text": [
      "Leyendo datos, puede tardar unos minutos...\n",
      "Datos combinados guardados en data/online_retail.csv.\n"
     ]
    }
   ],
   "source": [
    "import pandas as pd\n",
    "import os\n",
    "\n",
    "# Ruta al archivo Excel\n",
    "file_path = \"data/online_retail_II.xlsx\"\n",
    "combined_path = \"data/online_retail.csv\"\n",
    "\n",
    "if os.path.exists(combined_path):\n",
    "    print(f\"El archivo {combined_path} ya existe. No se sobrescribirá.\")\n",
    "else:\n",
    "    print(\"Leyendo datos, puede tardar unos minutos...\")\n",
    "    df1 = pd.read_excel(file_path, sheet_name='Year 2009-2010')\n",
    "    df2 = pd.read_excel(file_path, sheet_name='Year 2010-2011')\n",
    "\n",
    "    combined_df = pd.concat([df1, df2], ignore_index=True)\n",
    "    combined_df.to_csv(combined_path, index=False)\n",
    "    print(f\"Datos combinados guardados en {combined_path}.\")"
   ]
  }
 ],
 "metadata": {
  "kernelspec": {
   "display_name": "mlops_lab1",
   "language": "python",
   "name": "python3"
  },
  "language_info": {
   "codemirror_mode": {
    "name": "ipython",
    "version": 3
   },
   "file_extension": ".py",
   "mimetype": "text/x-python",
   "name": "python",
   "nbconvert_exporter": "python",
   "pygments_lexer": "ipython3",
   "version": "3.12.11"
  }
 },
 "nbformat": 4,
 "nbformat_minor": 5
}
